{
 "cells": [
  {
   "attachments": {
   },
   "cell_type": "markdown",
   "id": "d344deb3-66ad-4695-ac16-cddf4c362d38",
   "metadata": {
    "collapsed": false
   },
   "source": [
    "# Лабораторна робота 8\n",
    "\n",
    "__Знайдіть к-ть різних розфарбувань кубика Рубика 2х2х2, використовуючи 10 кольорів.__\n",
    "\n",
    "\n",
    "![rubik cube](../docs/labs_assets/rubik_cube.jpg)\n",
    "\n",
    "Два розфарбування називатимуться однаковими, якщо існує послідовність рухів кубика рубика, яка одне розфарбування переводить в інше. \n",
    "\n",
    "Не обовʼязково використовувати всі 10 кольорів, тобто допустимо пофарбувати весь кубик в один колір. \n",
    "\n",
    "___Приклад___: існує 183 різних розфарбувань, використовуючи 2 кольори. "
   ]
  },
  {
   "cell_type": "code",
   "execution_count": 7,
   "id": "a8ac4995-14b4-467d-a1f3-128841eabfb9",
   "metadata": {
    "collapsed": false
   },
   "outputs": [
   ],
   "source": [
    "G = SymmetricGroup(24)\n",
    "g1 = G('(1, 2, 4, 3)(5, 24, 9, 7)(6, 23, 10, 8)')\n",
    "g2 = G('(1, 5, 7, 13)(2, 6, 8, 14)(3, 9, 15, 4)(10, 16, 24, 23)')\n",
    "g3 = G('(5, 11, 12, 6)(7, 13, 14, 8)(9, 15, 16, 10)(17, 19, 24, 22)')\n",
    "g4 = G('(1, 7, 9, 4)(2, 8, 10, 3)(5, 13, 15, 6)(14, 16, 24, 23)')\n",
    "g5 = G('(3, 15, 8, 2)(4, 16, 10, 1)(9, 23, 14, 7)(6, 13, 24, 5)')\n",
    "g6 = G('(1, 3)(2, 4)(5, 9)(6, 10)(7, 15)(8, 16)(11, 19)(12, 20)(13, 23)(14, 24)(17, 21)(18, 22)')\n",
    "H = G.subgroup([g1, g2, g3, g4, g5, g6])\n",
    "k = 10\n",
    "orbits_count = sum(k ** sum(1 for _ in g.cycle_tuples()) for g in H) / H.order()\n",
    "orbits_count"
   ]
  }
 ],
 "metadata": {
  "kernelspec": {
   "argv": [
    "sage-10.4",
    "--python",
    "-m",
    "sage.repl.ipython_kernel",
    "--matplotlib=inline",
    "-f",
    "{connection_file}"
   ],
   "display_name": "SageMath 10.4",
   "env": {
   },
   "language": "sagemath",
   "metadata": {
    "cocalc": {
     "description": "Open-source mathematical software system",
     "priority": 10,
     "url": "https://www.sagemath.org/"
    }
   },
   "name": "sage-10.4",
   "resource_dir": "/ext/jupyter/kernels/sage-10.4"
  },
  "language_info": {
   "codemirror_mode": {
    "name": "ipython",
    "version": 3
   },
   "file_extension": ".py",
   "mimetype": "text/x-python",
   "name": "python",
   "nbconvert_exporter": "python",
   "pygments_lexer": "ipython3",
   "version": "3.11.8"
  }
 },
 "nbformat": 4,
 "nbformat_minor": 4
}