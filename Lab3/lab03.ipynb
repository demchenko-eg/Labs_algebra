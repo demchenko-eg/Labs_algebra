{
 "cells": [
  {
   "cell_type": "markdown",
   "id": "088d0c68-43d4-421c-bdda-91b406d863ba",
   "metadata": {
    "collapsed": false
   },
   "source": [
    "# Лабораторна робота 3. Групи, порядок елемента в групі\n",
    "\n",
    "_Примітка_: наведений код є лише одним з можливих шаблонів виконання. Можете писати по-своєму, але розділяйте свій код на функції, щоб їх можна було простіше перевіряти.\n",
    "\n",
    "## Завдання 1. \n",
    "\n",
    "__Задайте групи $D_{10}$, $Z_{16}$, $A_5$, $SL(2, \\mathbb{Z}_3)$*. Для кожної з них виведіть таблицю Келі, знайдіть порядок групи, перевірте чи група абелева. Перевірте чи будуть ізоморфними групи $SL(2, Z_3)$ та $D_3$.__\n",
    "\n",
    "*: група матриць 2х2 з визначником 1 над полем $\\mathbb{Z}_3$"
   ]
  },
  {
   "cell_type": "code",
   "execution_count": 3,
   "id": "8411013e-cb5f-4276-9113-e0bf1a966b4f",
   "metadata": {
    "collapsed": false
   },
   "outputs": [
   ],
   "source": [
    "from sympy.combinatorics import DihedralGroup, CyclicGroup, AlternatingGroup, SymmetricGroup\n",
    "from sympy.matrices import Matrix\n",
    "from sympy import Mod\n",
    "from itertools import permutations, product\n",
    "\n",
    "\n",
    "\n",
    "D10 = DihedralGroup(10)\n",
    "Z16 = CyclicGroup(16)\n",
    "A5 = AlternatingGroup(5)\n",
    "\n",
    "\n",
    "def SL2_Z3():\n",
    "    field = [0, 1, 2]\n",
    "    matrices = []\n",
    "    for a, b, c, d in product(field, repeat=4):\n",
    "        matrix = Matrix([[a, b], [c, d]])\n",
    "        if Mod(matrix.det(), 3) == 1:\n",
    "            matrices.append(matrix)\n",
    "    return matrices\n",
    "\n",
    "\n",
    "SL2Z3 = SL2_Z3()\n",
    "\n",
    "def cayley_table(group):\n",
    "    elements = list(group.generate_schreier_sims())\n",
    "    n = len(elements)\n",
    "    table = [[\"*\"] + elements]\n",
    "    for i in range(n):\n",
    "        row = [elements[i]]\n",
    "        for j in range(n):\n",
    "            row.append(elements[i] * elements[j])\n",
    "        table.append(row)\n",
    "    return table\n",
    "\n",
    "def is_abelian(group):\n",
    "    elements = list(group.generate_schreier_sims())\n",
    "    for i in elements:\n",
    "        for j in elements:\n",
    "            if i * j != j * i:\n",
    "                return False\n",
    "    return True\n",
    "\n",
    "def group_order(group):\n",
    "    return len(list(group.generate_schreier_sims()))\n",
    "\n",
    "def is_isomorphic_by_cayley_table(table1, table2):\n",
    "    if len(table1) != len(table2):\n",
    "        return False\n",
    "    n = len(table1) - 1\n",
    "    for perm in permutations(range(1, n + 1)):\n",
    "        is_iso = True\n",
    "        for i in range(1, n + 1):\n",
    "            for j in range(1, n + 1):\n",
    "                if table1[i][j] != table2[perm[i - 1]][perm[j - 1]]:\n",
    "                    is_iso = False\n",
    "                    break\n",
    "            if not is_iso:\n",
    "                break\n",
    "        if is_iso:\n",
    "            return True\n",
    "    return False\n",
    "\n",
    "# Порядок та абелевість групи D_10\n",
    "order_D10 = group_order(D10)\n",
    "abelian_D10 = is_abelian(D10)\n",
    "table_D10 = cayley_table(D10)\n",
    "\n",
    "# Порядок та абелевість групи Z_16\n",
    "order_Z16 = group_order(Z16)\n",
    "abelian_Z16 = is_abelian(Z16)\n",
    "table_Z16 = cayley_table(Z16)\n",
    "\n",
    "# Порядок та абелевість групи A_5\n",
    "order_A5 = group_order(A5)\n",
    "abelian_A5 = is_abelian(A5)\n",
    "table_A5 = cayley_table(A5)\n",
    "\n",
    "# Таблиця Келі та перевірка абелевості для SL(2, Z_3)\n",
    "order_SL2Z3 = len(SL2Z3)\n",
    "abelian_SL2Z3 = True\n",
    "table_SL2Z3 = [[\"*\"] + SL2Z3]\n",
    "for i in range(order_SL2Z3):\n",
    "    row = [SL2Z3[i]]\n",
    "    for j in range(order_SL2Z3):\n",
    "        row.append(SL2Z3[i] * SL2Z3[j])\n",
    "    table_SL2Z3.append(row)\n",
    "\n",
    "# Перевірка чи ізоморфні SL(2, Z_3) та D_3 через таблиці Келі\n",
    "D3 = DihedralGroup(3)\n",
    "table_D3 = cayley_table(D3)\n",
    "isomorphism_check = is_isomorphic_by_cayley_table(table_D3, table_SL2Z3)\n",
    "\n",
    "\n",
    "with open(\"group_properties.txt\", \"w\") as f:\n",
    "    f.write(f'Порядок D_10: {order_D10}, абелева: {abelian_D10}\\n')\n",
    "    f.write(f'Порядок Z_16: {order_Z16}, абелева: {abelian_Z16}\\n')\n",
    "    f.write(f'Порядок A_5: {order_A5}, абелева: {abelian_A5}\\n')\n",
    "    f.write(f'Порядок SL(2, Z_3): {order_SL2Z3}, абелева: {abelian_SL2Z3}\\n')\n",
    "    f.write(f'Ізоморфність SL(2, Z_3) та D_3: {isomorphism_check}\\n')\n",
    "    f.write('Таблиця Келі для D_10:\\n')\n",
    "    for row in table_D10:\n",
    "        f.write(str(row) + '\\n')\n",
    "    f.write('Таблиця Келі для Z_16:\\n')\n",
    "    for row in table_Z16:\n",
    "        f.write(str(row) + '\\n')\n",
    "    f.write('Таблиця Келі для A_5:\\n')\n",
    "    for row in table_A5:\n",
    "        f.write(str(row) + '\\n')\n",
    "    f.write('Таблиця Келі для SL(2, Z_3):\\n')\n",
    "    for row in table_SL2Z3:\n",
    "        f.write(str(row) + '\\n')"
   ]
  },
  {
   "cell_type": "markdown",
   "id": "101bece3-af83-4515-ba1a-e2d825b15a8d",
   "metadata": {
    "collapsed": false
   },
   "source": [
    "## Завдання 2. \n",
    "\n",
    "__Знайдіть к-ть елементів кожного можливого порядку в групах $S_{100}$ та $A_{100}$.__\n",
    "\n",
    "-----\n",
    "___Зауваження___: вивід буде великий, збережіть його в окремий текстовий файл\n",
    "\n",
    "___Зауваження 2___: оцініть спершу к-ть елементів в групі, а потім ще раз подумайте чи варто тут писати повний перебір"
   ]
  },
  {
   "cell_type": "code",
   "execution_count": 4,
   "id": "c5866f5d-ba29-40b9-af38-a4e93198f68d",
   "metadata": {
    "collapsed": false
   },
   "outputs": [
   ],
   "source": [
    "from math import gcd\n",
    "from sympy import divisors\n",
    "from sympy.ntheory.factor_ import totient\n",
    "\n",
    "def count_elements_of_order_in_Sn(n):\n",
    "    order_count = {}\n",
    "    \n",
    "    for d in divisors(n):\n",
    "        if d == 1:\n",
    "            continue\n",
    "        count_d_cycles = totient(d) * (n // d)\n",
    "        order_count[d] = count_d_cycles\n",
    "\n",
    "    return order_count\n",
    "\n",
    "def count_elements_of_order_in_An(n, order_in_Sn):\n",
    "    order_in_An = {}\n",
    "    for order, count in order_in_Sn.items():\n",
    "        if order % 2 == 0:\n",
    "            order_in_An[order] = count // 2\n",
    "        else:\n",
    "            order_in_An[order] = count\n",
    "    return order_in_An\n",
    "\n",
    "\n",
    "n = 100\n",
    "order_in_S100 = count_elements_of_order_in_Sn(n)\n",
    "order_in_A100 = count_elements_of_order_in_An(n, order_in_S100)\n",
    "\n",
    "with open('order_count_S100.txt', 'w') as f_s100:\n",
    "    for order, count in order_in_S100.items():\n",
    "        f_s100.write(f'Порядок: {order}, Кількість елементів: {count}\\n')\n",
    "\n",
    "with open('order_count_A100.txt', 'w') as f_a100:\n",
    "    for order, count in order_in_A100.items():\n",
    "        f_a100.write(f'Порядок: {order}, Кількість елементів: {count}\\n')"
   ]
  },
  {
   "cell_type": "markdown",
   "id": "aa1ddcec-2a21-46d5-80be-ff32c79d7de8",
   "metadata": {
    "collapsed": false
   },
   "source": [
    "## Завдання 3. \n",
    "___Для заданих натуральних $n, k$ ($1 <= n \\le 1 000 000, 1 \\le k \\le n!$) визначте чи існує в групі $S_n$ елемент порядку $k$.___\n",
    "\n",
    "----------\n",
    "\n",
    "___Зауваження:___ зверніть увагу на межі, в яких задано $n, k$. "
   ]
  },
  {
   "cell_type": "code",
   "execution_count": 5,
   "id": "4a04b16b-4a63-4a64-902b-f07148aad1f7",
   "metadata": {
    "cocalc": {
     "outputs": {
      "0": {
       "name": "input",
       "opts": {
        "password": false,
        "prompt": "n = "
       },
       "output_type": "stream",
       "value": "10"
      },
      "1": {
       "name": "input",
       "opts": {
        "password": false,
        "prompt": "k = "
       },
       "output_type": "stream",
       "value": "5"
      }
     }
    },
    "collapsed": false
   },
   "outputs": [
    {
     "name": "stdout",
     "output_type": "stream",
     "text": "n =  10"
    },
    {
     "name": "stdout",
     "output_type": "stream",
     "text": "k =  5"
    },
    {
     "name": "stdout",
     "output_type": "stream",
     "text": [
      "В групі S_10 існує елемент порядку 5.\n"
     ]
    }
   ],
   "source": [
    "from math import gcd\n",
    "from functools import reduce\n",
    "\n",
    "def lcm(a, b):\n",
    "    return a * b // gcd(a, b)\n",
    "\n",
    "def lcm_list(lst):\n",
    "    return reduce(lcm, lst, 1)\n",
    "\n",
    "def exists_element_of_order(n, k):\n",
    "    if k > factorial(n):\n",
    "        return False\n",
    "    \n",
    "    dp = {1}\n",
    "    for i in range(1, n + 1):\n",
    "        new_dp = set()\n",
    "        for order in dp:\n",
    "            new_lcm = lcm(order, i)\n",
    "            if new_lcm == k:\n",
    "                return True\n",
    "            if new_lcm < k:\n",
    "                new_dp.add(new_lcm)\n",
    "        dp.update(new_dp)\n",
    "    \n",
    "    return False\n",
    "\n",
    "n = int(input(\"n = \"))\n",
    "k = int(input(\"k = \"))\n",
    "\n",
    "if exists_element_of_order(n, k):\n",
    "    print(f\"В групі S_{n} існує елемент порядку {k}.\")\n",
    "else:\n",
    "    print(f\"В групі S_{n} не існує елементу порядку {k}.\")\n"
   ]
  }
 ],
 "metadata": {
  "kernelspec": {
   "argv": [
    "sage-10.4",
    "--python",
    "-m",
    "sage.repl.ipython_kernel",
    "--matplotlib=inline",
    "-f",
    "{connection_file}"
   ],
   "display_name": "SageMath 10.4",
   "env": {
   },
   "language": "sagemath",
   "metadata": {
    "cocalc": {
     "description": "Open-source mathematical software system",
     "priority": 10,
     "url": "https://www.sagemath.org/"
    }
   },
   "name": "sage-10.4",
   "resource_dir": "/ext/jupyter/kernels/sage-10.4"
  },
  "language_info": {
   "codemirror_mode": {
    "name": "ipython",
    "version": 3
   },
   "file_extension": ".py",
   "mimetype": "text/x-python",
   "name": "python",
   "nbconvert_exporter": "python",
   "pygments_lexer": "ipython3",
   "version": "3.12.4"
  }
 },
 "nbformat": 4,
 "nbformat_minor": 4
}