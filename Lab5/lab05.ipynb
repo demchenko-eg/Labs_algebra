{
 "cells": [
  {
   "cell_type": "markdown",
   "id": "853ce637-8316-439f-8787-5f6f25de4267",
   "metadata": {
    "collapsed": false
   },
   "source": [
    "# Лабораторна робота 5 \n",
    "\n",
    "## Завдання 1\n",
    "\n",
    "Розгляньте групу матриць за множенням  \n",
    "\n",
    "$$G = \\left\\langle \\left(\\begin{array}{rrr}\n",
    "1 & 0 & 1 \\\\\n",
    "0 & 1 & 0 \\\\\n",
    "0 & 0 & 1\n",
    "\\end{array}\\right),  \\left(\\begin{array}{rrr}\n",
    "1 & 0 & 0 \\\\\n",
    "0 & 1 & 1 \\\\\n",
    "0 & 0 & 1\n",
    "\\end{array}\\right)\\right\\rangle$$\n",
    "\n",
    "Дайте відповідь на наступні питання: \n",
    "\n",
    "1. _Чи є група G скінченною?_\n",
    "2. _Чи є група G комутативною?_\n",
    "3. _Який вигляд мають елементи групи G?_\n",
    "4. _Які порядки мають елементи групи G?_ \n",
    "5. _Чому ізоморфна група G?_\n",
    "\n",
    "\n",
    "__Відповіді__: \n",
    "1. ... \n",
    "2. ... \n",
    "3. ... \n",
    "4. ... \n",
    "5. ... "
   ]
  },
  {
   "cell_type": "code",
   "execution_count": 1,
   "id": "be9b2439-0658-4e0a-93c6-0850a2e200fe",
   "metadata": {
    "collapsed": false
   },
   "outputs": [
    {
     "name": "stdout",
     "output_type": "stream",
     "text": [
      "Чи є група G скінченною? False\n",
      "Чи є група G комутативною? True\n",
      "Група нескінченна, список елементів і порядки не обчислюються.\n"
     ]
    }
   ],
   "source": [
    "A = Matrix([[1, 0, 1], [0, 1, 0], [0, 0, 1]])\n",
    "B = Matrix([[1, 0, 0], [0, 1, 1], [0, 0, 1]])\n",
    "\n",
    "G = MatrixGroup([A, B])\n",
    "\n",
    "is_finite = G.is_finite()\n",
    "is_abelian = G.is_abelian()\n",
    "\n",
    "print(f\"Чи є група G скінченною? {is_finite}\")\n",
    "print(f\"Чи є група G комутативною? {is_abelian}\")\n",
    "\n",
    "if is_finite:\n",
    "    elements = G.list()\n",
    "    orders = [g.order() for g in elements]\n",
    "    print(f\"Елементи групи G: {elements}\")\n",
    "    print(f\"Порядки елементів групи G: {orders}\")\n",
    "else:\n",
    "    print(\"Група нескінченна, список елементів і порядки не обчислюються.\")"
   ]
  },
  {
   "cell_type": "markdown",
   "id": "4b51fa8b-4aaf-4b15-9478-a546c500583d",
   "metadata": {
    "collapsed": false
   },
   "source": [
    "## Завдання 2 \n",
    "\n",
    "Розгляньте групу матриць за множенням: \n",
    "\n",
    "$$G = \\left\\langle \\left(\\begin{array}{rr}\n",
    "1 & -1 \\\\\n",
    "-1 & 2\n",
    "\\end{array}\\right), \\left(\\begin{array}{rr}\n",
    "3 & 2 \\\\\n",
    "2 & 1\n",
    "\\end{array}\\right) \\right\\rangle$$\n",
    "\n",
    "Дайте відповідь на наступні питання: \n",
    "\n",
    "1. _Чи є група G скінченною?_\n",
    "2. _Чи є група G комутативною?_\n",
    "3. _Який вигляд мають елементи групи G?_\n",
    "4. _Які порядки мають елементи групи G?_ \n",
    "5. _Чому ізоморфна група G?_\n",
    "\n",
    "\n",
    "__Відповіді__: \n",
    "1. ... \n",
    "2. ... \n",
    "3. ... \n",
    "4. ... \n",
    "5. ... "
   ]
  },
  {
   "cell_type": "code",
   "execution_count": 5,
   "id": "90507d96-1506-4ac1-af8b-e7ad3840755a",
   "metadata": {
    "collapsed": false
   },
   "outputs": [
    {
     "name": "stdout",
     "output_type": "stream",
     "text": [
      "Чи є група G скінченною? False\n",
      "Чи є група G комутативною? True\n",
      "Група нескінченна, список елементів і порядки не обчислюються.\n"
     ]
    }
   ],
   "source": [
    "A = Matrix([[1, -1], [-1, 2]])\n",
    "B = Matrix([[3, 2], [2, 1]])\n",
    "\n",
    "G = MatrixGroup([A, B])\n",
    "\n",
    "is_finite = G.is_finite()\n",
    "is_abelian = G.is_abelian()\n",
    "\n",
    "print(f\"Чи є група G скінченною? {is_finite}\")\n",
    "print(f\"Чи є група G комутативною? {is_abelian}\")\n",
    "\n",
    "if is_finite:\n",
    "    elements = G.list()\n",
    "    orders = [g.order() for g in elements]\n",
    "    print(f\"Елементи групи G: {elements}\")\n",
    "    print(f\"Порядки елементів групи G: {orders}\")\n",
    "else:\n",
    "    print(\"Група нескінченна, список елементів і порядки не обчислюються.\")\n"
   ]
  },
  {
   "cell_type": "markdown",
   "id": "19188467-cc30-42b5-a48c-1329337ff2c0",
   "metadata": {
    "collapsed": false
   },
   "source": [
    "## Завдання 3\n",
    "\n",
    "Розгляньте групу матриць за множенням: \n",
    "\n",
    "$$K = \\left\\langle \\left(\\begin{array}{rrr}\n",
    "-1 & 0 & 0 \\\\\n",
    "0 & 1 & \\frac{1}{2} \\\\\n",
    "0 & 0 & 1\n",
    "\\end{array}\\right), \n",
    "\\left(\\begin{array}{rrr}\n",
    "1 & 0 & 1 \\\\\n",
    "0 & 1 & 0 \\\\\n",
    "0 & 0 & 1\n",
    "\\end{array}\\right) \\right\\rangle$$\n",
    "\n",
    "Дайте відповідь на наступні питання: \n",
    "\n",
    "1. _Чи є група K скінченною?_\n",
    "2. _Чи є група K комутативною?_\n",
    "3. _Який вигляд мають елементи групи K?_\n",
    "4. _Які порядки мають елементи групи K?_ \n",
    "\n",
    "__Відповіді__: \n",
    "1. ... \n",
    "2. ... \n",
    "3. ... \n",
    "4. ... \n",
    "5. ... \n",
    "\n",
    "\n",
    "__Додаткова задача:__\n",
    "Опишіть підгрупи групи K з точністю до ізоморфізму. "
   ]
  },
  {
   "cell_type": "code",
   "execution_count": 9,
   "id": "e527f82c-506c-4c52-8136-4b9ba5391e63",
   "metadata": {
    "collapsed": false
   },
   "outputs": [
    {
     "name": "stdout",
     "output_type": "stream",
     "text": [
      "Чи є група K скінченною? False\n",
      "Чи є група K комутативною? False\n",
      "Група нескінченна, список елементів і порядки не обчислюються.\n",
      "Потенційні підгрупи:\n",
      "Підгрупа, породжена A: Subgroup with 1 generators (\n",
      "[ -1   0   0]\n",
      "[  0   1 1/2]\n",
      "[  0   0   1]\n",
      ") of Matrix group over Rational Field with 2 generators (\n",
      "[ -1   0   0]  [1 0 1]\n",
      "[  0   1 1/2]  [0 1 0]\n",
      "[  0   0   1], [0 0 1]\n",
      ")\n",
      "Підгрупа, породжена B: Subgroup with 1 generators (\n",
      "[1 0 1]\n",
      "[0 1 0]\n",
      "[0 0 1]\n",
      ") of Matrix group over Rational Field with 2 generators (\n",
      "[ -1   0   0]  [1 0 1]\n",
      "[  0   1 1/2]  [0 1 0]\n",
      "[  0   0   1], [0 0 1]\n",
      ")\n",
      "Підгрупа, породжена A та B: Subgroup with 2 generators (\n",
      "[ -1   0   0]  [1 0 1]\n",
      "[  0   1 1/2]  [0 1 0]\n",
      "[  0   0   1], [0 0 1]\n",
      ") of Matrix group over Rational Field with 2 generators (\n",
      "[ -1   0   0]  [1 0 1]\n",
      "[  0   1 1/2]  [0 1 0]\n",
      "[  0   0   1], [0 0 1]\n",
      ")\n"
     ]
    }
   ],
   "source": [
    "A = Matrix([[-1, 0, 0], [0, 1, 1/2], [0, 0, 1]])\n",
    "B = Matrix([[1, 0, 1], [0, 1, 0], [0, 0, 1]])\n",
    "\n",
    "K = MatrixGroup([A, B])\n",
    "\n",
    "is_finite = K.is_finite()\n",
    "is_abelian = K.is_abelian()\n",
    "\n",
    "print(f\"Чи є група K скінченною? {is_finite}\")\n",
    "print(f\"Чи є група K комутативною? {is_abelian}\")\n",
    "\n",
    "if is_finite:\n",
    "    elements = K.list()\n",
    "    orders = [g.order() for g in elements]\n",
    "    print(f\"Елементи групи K: {elements}\")\n",
    "    print(f\"Порядки елементів групи K: {orders}\")\n",
    "else:\n",
    "    print(\"Група нескінченна, список елементів і порядки не обчислюються.\")\n",
    "\n",
    "    \n",
    "\n",
    "    \n",
    "print(\"Потенційні підгрупи:\")\n",
    "H1 = K.subgroup([A])\n",
    "print(f\"Підгрупа, породжена A: {H1}\")\n",
    "H2 = K.subgroup([B])\n",
    "print(f\"Підгрупа, породжена B: {H2}\")\n",
    "H3 = K.subgroup([A, B])\n",
    "print(f\"Підгрупа, породжена A та B: {H3}\")"
   ]
  }
 ],
 "metadata": {
  "kernelspec": {
   "argv": [
    "sage-10.4",
    "--python",
    "-m",
    "sage.repl.ipython_kernel",
    "--matplotlib=inline",
    "-f",
    "{connection_file}"
   ],
   "display_name": "SageMath 10.4",
   "env": {
   },
   "language": "sagemath",
   "metadata": {
    "cocalc": {
     "description": "Open-source mathematical software system",
     "priority": 10,
     "url": "https://www.sagemath.org/"
    }
   },
   "name": "sage-10.4",
   "resource_dir": "/ext/jupyter/kernels/sage-10.4"
  },
  "language_info": {
   "codemirror_mode": {
    "name": "ipython",
    "version": 3
   },
   "file_extension": ".py",
   "mimetype": "text/x-python",
   "name": "python",
   "nbconvert_exporter": "python",
   "pygments_lexer": "ipython3",
   "version": "3.12.4"
  }
 },
 "nbformat": 4,
 "nbformat_minor": 4
}